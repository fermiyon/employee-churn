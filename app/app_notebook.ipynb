{
 "cells": [
  {
   "cell_type": "code",
   "execution_count": 1,
   "metadata": {},
   "outputs": [],
   "source": [
    "import streamlit as st\n",
    "import pandas as pd\n",
    "import numpy as np\n",
    "import pickle\n",
    "import openai\n",
    "import scipy.stats as stats\n",
    "import os\n",
    "\n",
    "# Creating PDF\n",
    "from reportlab.lib.pagesizes import letter\n",
    "from reportlab.lib.styles import getSampleStyleSheet\n",
    "from reportlab.platypus import SimpleDocTemplate, Paragraph, Spacer\n",
    "from reportlab.lib.enums import TA_CENTER\n",
    "\n",
    "# Creating Word\n",
    "from docx import Document\n",
    "from docx.shared import Inches\n",
    "\n",
    "# To add date to the title of PDF file\n",
    "from datetime import datetime\n",
    "\n",
    "df = pd.read_csv('HR_dataset.csv')\n",
    "df.drop_duplicates(inplace=True)\n",
    "df.reset_index(drop=True,inplace=True)\n",
    "df.rename(columns={'Departments ':'departments'}, inplace = True)\n",
    "df_statistical_test = df.drop(columns=['left','Work_accident','promotion_last_5years'])"
   ]
  },
  {
   "cell_type": "code",
   "execution_count": 2,
   "metadata": {},
   "outputs": [],
   "source": [
    "def test_single_person(data: pd.DataFrame, department: str, column: str, person_value: float, alpha: float = 0.05):\n",
    "    \"\"\"\n",
    "    Perform a one-sample t-test to compare a single person's value to the mean value for a specified department.\n",
    "\n",
    "    Args:\n",
    "        data (pd.DataFrame): The DataFrame containing the data to be tested.\n",
    "        department (str): The name of the department to test (must match the value in the 'department' column).\n",
    "        column (str): The name of the column containing the data to be tested.\n",
    "        person_value (float): The value for the single person to be tested.\n",
    "        alpha (float, optional): The significance level for the test (default is 0.05).\n",
    "\n",
    "    Returns:\n",
    "        A string indicating whether the single person's value is statistically different from the department mean.\n",
    "    \"\"\"\n",
    "    department_data = data[data['departments'] == department][column]\n",
    "    t_stat, p_value = stats.ttest_1samp(department_data, person_value)\n",
    "\n",
    "    if p_value < alpha:\n",
    "        return f\"The single person's {column} ({person_value:.2f}) is statistically different from the {department} department mean ({department_data.mean():.2f}). The p-value is {p_value:.4f}.\"\n",
    "    else:\n",
    "        return f\"The single person's {column} ({person_value:.2f}) is not statistically different from the {department} department mean ({department_data.mean():.2f}). The p-value is {p_value:.4f}.\"\n",
    "    \n",
    "\n",
    "def apply_test_single_person(data: pd.DataFrame, person_data: pd.DataFrame, alpha: float = 0.05):\n",
    "    \"\"\"\n",
    "    Apply the test_single_person() function to all numeric columns in a given DataFrame for the single person's department.\n",
    "\n",
    "    Args:\n",
    "        data (pd.DataFrame): The DataFrame containing the data to be tested.\n",
    "        person_data (pd.DataFrame): A DataFrame containing the single person's values for each column to be tested.\n",
    "        alpha (float, optional): The significance level for the test (default is 0.05).\n",
    "\n",
    "    Returns:\n",
    "        A dictionary containing the question and result of the one-sample t-test for each numeric column.\n",
    "    \"\"\"\n",
    "    results = {}\n",
    "    numeric_cols = data.select_dtypes(include='number').columns\n",
    "    person_dept = person_data.iloc[0]['departments']\n",
    "\n",
    "    for col in numeric_cols:\n",
    "        result = test_single_person(data=data, department=person_dept, column=col, person_value=person_data.iloc[0][col], alpha=alpha)\n",
    "        question = f\"Is the single person's {col} significantly different from the {person_dept} department mean?\"\n",
    "        results[f\"{col} - {person_dept}\"] = {'question': question, 'result': result}\n",
    "\n",
    "    return results"
   ]
  },
  {
   "cell_type": "code",
   "execution_count": 5,
   "metadata": {},
   "outputs": [
    {
     "data": {
      "text/html": [
       "<div>\n",
       "<style scoped>\n",
       "    .dataframe tbody tr th:only-of-type {\n",
       "        vertical-align: middle;\n",
       "    }\n",
       "\n",
       "    .dataframe tbody tr th {\n",
       "        vertical-align: top;\n",
       "    }\n",
       "\n",
       "    .dataframe thead th {\n",
       "        text-align: right;\n",
       "    }\n",
       "</style>\n",
       "<table border=\"1\" class=\"dataframe\">\n",
       "  <thead>\n",
       "    <tr style=\"text-align: right;\">\n",
       "      <th></th>\n",
       "      <th>satisfaction_level</th>\n",
       "      <th>last_evaluation</th>\n",
       "      <th>number_project</th>\n",
       "      <th>average_montly_hours</th>\n",
       "      <th>time_spend_company</th>\n",
       "      <th>Work_accident</th>\n",
       "      <th>left</th>\n",
       "      <th>promotion_last_5years</th>\n",
       "      <th>departments</th>\n",
       "      <th>salary</th>\n",
       "    </tr>\n",
       "  </thead>\n",
       "  <tbody>\n",
       "    <tr>\n",
       "      <th>0</th>\n",
       "      <td>0.38</td>\n",
       "      <td>0.53</td>\n",
       "      <td>2</td>\n",
       "      <td>157</td>\n",
       "      <td>3</td>\n",
       "      <td>0</td>\n",
       "      <td>1</td>\n",
       "      <td>0</td>\n",
       "      <td>sales</td>\n",
       "      <td>low</td>\n",
       "    </tr>\n",
       "  </tbody>\n",
       "</table>\n",
       "</div>"
      ],
      "text/plain": [
       "  satisfaction_level last_evaluation number_project average_montly_hours   \n",
       "0               0.38            0.53              2                  157  \\\n",
       "\n",
       "  time_spend_company Work_accident left promotion_last_5years departments   \n",
       "0                  3             0    1                     0       sales  \\\n",
       "\n",
       "  salary  \n",
       "0    low  "
      ]
     },
     "execution_count": 5,
     "metadata": {},
     "output_type": "execute_result"
    }
   ],
   "source": [
    "df_sample = pd.DataFrame(df.iloc[0]).T\n",
    "df_sample\n",
    "\n",
    "# df = pd.DataFrame.from_dict([my_dict])"
   ]
  },
  {
   "cell_type": "code",
   "execution_count": 6,
   "metadata": {},
   "outputs": [],
   "source": [
    "churn_sample = df_sample # load_trans.transform(df_sample)"
   ]
  },
  {
   "cell_type": "code",
   "execution_count": 7,
   "metadata": {},
   "outputs": [
    {
     "data": {
      "text/plain": [
       "{'satisfaction_level - sales': {'question': \"Is the single person's satisfaction_level significantly different from the sales department mean?\",\n",
       "  'result': \"The single person's satisfaction_level (0.38) is statistically different from the sales department mean (0.63). The p-value is 0.0000.\"},\n",
       " 'last_evaluation - sales': {'question': \"Is the single person's last_evaluation significantly different from the sales department mean?\",\n",
       "  'result': \"The single person's last_evaluation (0.53) is statistically different from the sales department mean (0.71). The p-value is 0.0000.\"},\n",
       " 'number_project - sales': {'question': \"Is the single person's number_project significantly different from the sales department mean?\",\n",
       "  'result': \"The single person's number_project (2.00) is statistically different from the sales department mean (3.78). The p-value is 0.0000.\"},\n",
       " 'average_montly_hours - sales': {'question': \"Is the single person's average_montly_hours significantly different from the sales department mean?\",\n",
       "  'result': \"The single person's average_montly_hours (157.00) is statistically different from the sales department mean (200.24). The p-value is 0.0000.\"},\n",
       " 'time_spend_company - sales': {'question': \"Is the single person's time_spend_company significantly different from the sales department mean?\",\n",
       "  'result': \"The single person's time_spend_company (3.00) is statistically different from the sales department mean (3.38). The p-value is 0.0000.\"}}"
      ]
     },
     "execution_count": 7,
     "metadata": {},
     "output_type": "execute_result"
    }
   ],
   "source": [
    "apply_test_single_person(df.drop(columns=['left','Work_accident','promotion_last_5years']),churn_sample)"
   ]
  },
  {
   "cell_type": "code",
   "execution_count": 8,
   "metadata": {},
   "outputs": [],
   "source": [
    "dict = df[(df.departments == 'technical') & (df.left==1)][['satisfaction_level','last_evaluation','number_project','average_montly_hours','time_spend_company']].mean().to_dict()"
   ]
  },
  {
   "cell_type": "code",
   "execution_count": 52,
   "metadata": {},
   "outputs": [],
   "source": [
    "def calculate_department_stats(data, sample_df, left=None):\n",
    "    \"\"\"\n",
    "    Calculates the mean values of several employee performance metrics for a specific department in a dataframe.\n",
    "    \n",
    "    Args:\n",
    "        data (pandas.DataFrame): The dataframe containing employee data. \n",
    "        sample_df (pandas.DataFrame): A separate dataframe containing information about the department of interest.\n",
    "        left (bool or None): If left is None, calculate stats for all employees in the department (both left and not left).\n",
    "                             If left is True, calculate stats only for employees who have left the company.\n",
    "                             If left is False, calculate stats only for employees who have not yet left the company.\n",
    "                             \n",
    "    Returns:\n",
    "        dict: A dictionary containing the mean values of the following employee performance metrics for the specified department: \n",
    "            - satisfaction_level     \n",
    "            - last_evaluation\n",
    "            - number_project       \n",
    "            - average_montly_hours\n",
    "            - time_spend_company\n",
    "    \"\"\"\n",
    "    \n",
    "    filtered_df = np.nan\n",
    "    department = sample_df.departments.iloc[0]\n",
    "    if left is None:\n",
    "        filtered_df = data[data.departments == department]   \n",
    "    else:\n",
    "        filtered_df = data[(data.departments == department) & (data.left == int(left))]\n",
    "        \n",
    "    metrics = ['satisfaction_level', 'last_evaluation', 'number_project', 'average_montly_hours', 'time_spend_company']\n",
    "    stats_dict = filtered_df[metrics].mean().to_dict()\n",
    "        \n",
    "    return stats_dict\n",
    "\n",
    "def explain_department_stats(stats_dict, department_name, left=None):\n",
    "    \"\"\"\n",
    "    Generates a string explaining the meaning of the values in a dictionary of department statistics.\n",
    "\n",
    "    Args:\n",
    "        stats_dict (dict): A dictionary containing the mean values of several employee performance metrics for a department.\n",
    "        department_name (str): The name of the department the stats_dict corresponds to.\n",
    "        left (bool or None): If left is None, generate an explanation for all employees in the department (both left and not left).\n",
    "                             If left is True, generate an explanation only for employees who have left the company.\n",
    "                             If left is False, generate an explanation only for employees who have not yet left the company.\n",
    "\n",
    "    Returns:\n",
    "        str: A string explaining the meaning of the values in the stats_dict dictionary.\n",
    "    \"\"\"\n",
    "    if left is None:\n",
    "        explanation = f\"These are the mean values for the {department_name} department:\"\n",
    "    elif left:\n",
    "        explanation = f\"These are the mean values for employees who is churn of the {department_name} department:\"\n",
    "    else:\n",
    "        explanation = f\"These are the mean values for employees who is not churn of the {department_name} department:\"\n",
    "    for metric, value in stats_dict.items():\n",
    "        explanation += f\" {metric.replace('_', ' ')}: {value:.2f}. \"\n",
    "    # explanation += f\"The employee is from this department.\"\n",
    "    return explanation"
   ]
  },
  {
   "cell_type": "code",
   "execution_count": 60,
   "metadata": {},
   "outputs": [
    {
     "data": {
      "text/plain": [
       "{'satisfaction_level': 0.45039999999999997,\n",
       " 'last_evaluation': 0.7162363636363637,\n",
       " 'number_project': 3.7636363636363637,\n",
       " 'average_montly_hours': 206.2709090909091,\n",
       " 'time_spend_company': 3.82}"
      ]
     },
     "execution_count": 60,
     "metadata": {},
     "output_type": "execute_result"
    }
   ],
   "source": [
    "filtered_df = df[(df.departments == 'sales') & (df.left == int(1))]\n",
    "metrics = ['satisfaction_level', 'last_evaluation', 'number_project', 'average_montly_hours', 'time_spend_company']\n",
    "stats_dict = filtered_df[metrics].mean().to_dict()\n",
    "stats_dict"
   ]
  },
  {
   "cell_type": "code",
   "execution_count": 67,
   "metadata": {},
   "outputs": [
    {
     "data": {
      "text/plain": [
       "'These are the mean values for employees who is not churn of the sales department: satisfaction level: 0.67.  last evaluation: 0.71.  number project: 3.78.  average montly hours: 199.01.  time spend company: 3.29. '"
      ]
     },
     "execution_count": 67,
     "metadata": {},
     "output_type": "execute_result"
    }
   ],
   "source": [
    "explain_department_stats(calculate_department_stats(df,churn_sample,0),'sales',0)"
   ]
  },
  {
   "cell_type": "code",
   "execution_count": 20,
   "metadata": {},
   "outputs": [],
   "source": [
    "statistical_findings = [\n",
    "  \"There is a significant difference in average values between employees who left and those who stayed for column satisfaction_level.\",\n",
    "  \"There is no significant difference in average values between employees who left and those who stayed for column last_evaluation.\",\n",
    "  \"There is no significant difference in average values between employees who left and those who stayed for column number_project.\",\n",
    "  \"There is a significant difference in average values between employees who left and those who stayed for column average_montly_hours.\",\n",
    "  \"There is a significant difference in average values between employees who left and those who stayed for column time_spend_company.\",\n",
    "  \"There is a significant difference in average values between employees who left and those who stayed for column Work_accident.\",\n",
    "  \"There is a significant difference in average values between employees who left and those who stayed for column promotion_last_5years.\",\n",
    "  \"There is a significant difference in average values between employees who left and those who stayed for column left.\",\n",
    "  \"There is evidence to suggest a significant difference in the proportion of employees who left the company based on whether they had a work accident or not.\",\n",
    "  \"There is a significant difference in the average satisfaction level between employees who had a work accident and those who didn't.\",\n",
    "  \"There is a statistically significant association between the salary level of employees and the likelihood of them leaving the company.\"\n",
    "]"
   ]
  },
  {
   "cell_type": "code",
   "execution_count": 27,
   "metadata": {},
   "outputs": [],
   "source": [
    "show_df = {'Informations':{'Departments': 'Sales',\n",
    "        'Salary': 'Low',\n",
    "        'Satisfaction Level': 0.09,\n",
    "        'Last Evaluation': 0.79,\n",
    "        'Assigned Project': 6,\n",
    "        'Monthly Working Time': 293,\n",
    "        'Time in the Company': 5,\n",
    "        'Work Accident': True,\n",
    "        'Get Promoted': True}}"
   ]
  },
  {
   "cell_type": "code",
   "execution_count": 12,
   "metadata": {},
   "outputs": [],
   "source": [
    "result = 1"
   ]
  },
  {
   "cell_type": "code",
   "execution_count": 16,
   "metadata": {},
   "outputs": [],
   "source": [
    "result_proba = (0.05,0.95)"
   ]
  },
  {
   "cell_type": "code",
   "execution_count": null,
   "metadata": {},
   "outputs": [
    {
     "data": {
      "text/plain": [
       "'technical'"
      ]
     },
     "metadata": {},
     "output_type": "display_data"
    }
   ],
   "source": [
    "churn_sample.departments.iloc[0]"
   ]
  },
  {
   "cell_type": "code",
   "execution_count": 18,
   "metadata": {},
   "outputs": [],
   "source": [
    "model_df = churn_sample"
   ]
  },
  {
   "cell_type": "code",
   "execution_count": 68,
   "metadata": {},
   "outputs": [],
   "source": [
    "leave_text = ''\n",
    "if result == 1:\n",
    "    leave_text = f'This employee is churn according to ml model with {result_proba[1]} score'\n",
    "    department_info = explain_department_stats(calculate_department_stats(df,model_df,1),model_df.departments.iloc[0],1)\n",
    "    department_info += explain_department_stats(calculate_department_stats(df,model_df,0),model_df.departments.iloc[0],0)\n",
    "    department_info += explain_department_stats(calculate_department_stats(df,model_df),model_df.departments.iloc[0])\n",
    "else:\n",
    "    leave_text = f'This employee is not churn according to ml model with {result_proba[0]} score'\n",
    "    department_info = explain_department_stats(calculate_department_stats(df,model_df,1),model_df.departments.iloc[0],1)\n",
    "    department_info += explain_department_stats(calculate_department_stats(df,model_df,0),model_df.departments.iloc[0],0)\n",
    "    department_info += explain_department_stats(calculate_department_stats(df,model_df),model_df.departments.iloc[0])\n",
    "\n",
    "show_df['Informations']['Monthly Working Time'] = str(show_df['Informations']['Monthly Working Time'])  + ' hours'\n",
    "message = f\"How can I increase the productivity of this employee? Employee information: {show_df}. {leave_text}. These are statistical test results based on hypothesis tests:{' '.join(statistical_findings)} {department_info} Consider employee information and evaluate each information. Also comment on churn with the ML score rounded. Write engaging conclusion.\"\n",
    "        "
   ]
  },
  {
   "cell_type": "code",
   "execution_count": 69,
   "metadata": {},
   "outputs": [
    {
     "data": {
      "text/plain": [
       "\"How can I increase the productivity of this employee? Employee information: {'Informations': {'Departments': 'Sales', 'Salary': 'Low', 'Satisfaction Level': 0.09, 'Last Evaluation': 0.79, 'Assigned Project': 6, 'Monthly Working Time': '293 hours hours hours hours hours hours hours hours hours', 'Time in the Company': 5, 'Work Accident': True, 'Get Promoted': True}}. This employee is churn according to ml model with 0.95 score. These are statistical test results based on hypothesis tests:There is a significant difference in average values between employees who left and those who stayed for column satisfaction_level. There is no significant difference in average values between employees who left and those who stayed for column last_evaluation. There is no significant difference in average values between employees who left and those who stayed for column number_project. There is a significant difference in average values between employees who left and those who stayed for column average_montly_hours. There is a significant difference in average values between employees who left and those who stayed for column time_spend_company. There is a significant difference in average values between employees who left and those who stayed for column Work_accident. There is a significant difference in average values between employees who left and those who stayed for column promotion_last_5years. There is a significant difference in average values between employees who left and those who stayed for column left. There is evidence to suggest a significant difference in the proportion of employees who left the company based on whether they had a work accident or not. There is a significant difference in the average satisfaction level between employees who had a work accident and those who didn't. There is a statistically significant association between the salary level of employees and the likelihood of them leaving the company. These are the mean values for employees who is churn of the sales department: satisfaction level: 0.45.  last evaluation: 0.72.  number project: 3.76.  average montly hours: 206.27.  time spend company: 3.82. These are the mean values for employees who is not churn of the sales department: satisfaction level: 0.67.  last evaluation: 0.71.  number project: 3.78.  average montly hours: 199.01.  time spend company: 3.29. These are the mean values for the sales department: satisfaction level: 0.63.  last evaluation: 0.71.  number project: 3.78.  average montly hours: 200.24.  time spend company: 3.38.  Consider employee information and evaluate each information. Also comment on churn with the ML score rounded. Write engaging conclusion.\""
      ]
     },
     "execution_count": 69,
     "metadata": {},
     "output_type": "execute_result"
    }
   ],
   "source": [
    "message"
   ]
  },
  {
   "cell_type": "code",
   "execution_count": null,
   "metadata": {},
   "outputs": [
    {
     "name": "stdout",
     "output_type": "stream",
     "text": [
      "Collecting reportlab\n",
      "  Downloading reportlab-4.0.4-py3-none-any.whl (1.9 MB)\n",
      "\u001b[2K     \u001b[90m━━━━━━━━━━━━━━━━━━━━━━━━━━━━━━━━━━━━━━━━\u001b[0m \u001b[32m1.9/1.9 MB\u001b[0m \u001b[31m6.0 MB/s\u001b[0m eta \u001b[36m0:00:00\u001b[0m00:01\u001b[0m00:01\u001b[0mm\n",
      "\u001b[?25hRequirement already satisfied: pillow>=9.0.0 in /Users/mac/anaconda3/lib/python3.10/site-packages (from reportlab) (9.4.0)\n",
      "Installing collected packages: reportlab\n",
      "Successfully installed reportlab-4.0.4\n"
     ]
    }
   ],
   "source": [
    "# !pip install reportlab\n"
   ]
  },
  {
   "cell_type": "code",
   "execution_count": null,
   "metadata": {},
   "outputs": [
    {
     "name": "stdout",
     "output_type": "stream",
     "text": [
      "Collecting python-docx\n",
      "  Downloading python-docx-0.8.11.tar.gz (5.6 MB)\n",
      "\u001b[2K     \u001b[90m━━━━━━━━━━━━━━━━━━━━━━━━━━━━━━━━━━━━━━━━\u001b[0m \u001b[32m5.6/5.6 MB\u001b[0m \u001b[31m4.4 MB/s\u001b[0m eta \u001b[36m0:00:00\u001b[0m00:01\u001b[0m00:01\u001b[0mm\n",
      "\u001b[?25h  Preparing metadata (setup.py) ... \u001b[?25ldone\n",
      "\u001b[?25hRequirement already satisfied: lxml>=2.3.2 in /Users/mac/anaconda3/lib/python3.10/site-packages (from python-docx) (4.9.1)\n",
      "Building wheels for collected packages: python-docx\n",
      "  Building wheel for python-docx (setup.py) ... \u001b[?25ldone\n",
      "\u001b[?25h  Created wheel for python-docx: filename=python_docx-0.8.11-py3-none-any.whl size=184491 sha256=29c794a04d5311bf3249c8d8c69af7383f8d0a09184ccadb3e74109fd194374d\n",
      "  Stored in directory: /Users/mac/Library/Caches/pip/wheels/80/27/06/837436d4c3bd989b957a91679966f207bfd71d358d63a8194d\n",
      "Successfully built python-docx\n",
      "Installing collected packages: python-docx\n",
      "Successfully installed python-docx-0.8.11\n"
     ]
    }
   ],
   "source": [
    "# !pip install python-docx"
   ]
  }
 ],
 "metadata": {
  "kernelspec": {
   "display_name": "base",
   "language": "python",
   "name": "python3"
  },
  "language_info": {
   "codemirror_mode": {
    "name": "ipython",
    "version": 3
   },
   "file_extension": ".py",
   "mimetype": "text/x-python",
   "name": "python",
   "nbconvert_exporter": "python",
   "pygments_lexer": "ipython3",
   "version": "3.10.9"
  },
  "orig_nbformat": 4
 },
 "nbformat": 4,
 "nbformat_minor": 2
}
